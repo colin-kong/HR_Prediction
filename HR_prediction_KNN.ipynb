{
  "nbformat": 4,
  "nbformat_minor": 0,
  "metadata": {
    "colab": {
      "name": "HR_prediction_KNN.ipynb",
      "provenance": [],
      "collapsed_sections": [],
      "authorship_tag": "ABX9TyMmVFqhQlhYF2BKDP6oYJ9V",
      "include_colab_link": true
    },
    "kernelspec": {
      "name": "python3",
      "display_name": "Python 3"
    },
    "language_info": {
      "name": "python"
    }
  },
  "cells": [
    {
      "cell_type": "markdown",
      "metadata": {
        "id": "view-in-github",
        "colab_type": "text"
      },
      "source": [
        "<a href=\"https://colab.research.google.com/github/colin-kong/HR_Prediction/blob/main/HR_prediction_KNN.ipynb\" target=\"_parent\"><img src=\"https://colab.research.google.com/assets/colab-badge.svg\" alt=\"Open In Colab\"/></a>"
      ]
    },
    {
      "cell_type": "code",
      "metadata": {
        "id": "h860Vvqgc74w"
      },
      "source": [
        "# For ignoring future warning messages\n",
        "import warnings\n",
        "warnings.simplefilter(action='ignore', category=FutureWarning)\n",
        "\n",
        "import pandas as pd\n",
        "import numpy as np\n",
        "import seaborn as sns\n",
        "import matplotlib.pyplot as plt\n",
        "from sklearn.cluster import KMeans\n",
        "\n",
        "%matplotlib inline\n",
        "sns.set()"
      ],
      "execution_count": 1,
      "outputs": []
    },
    {
      "cell_type": "markdown",
      "metadata": {
        "id": "PddbkjIKelB1"
      },
      "source": [
        "Importing data into pandas dataframe from csv file"
      ]
    },
    {
      "cell_type": "code",
      "metadata": {
        "id": "BqcET9zYdSe1"
      },
      "source": [
        "df = pd.read_csv(\"HR_dataset.csv\")"
      ],
      "execution_count": 2,
      "outputs": []
    },
    {
      "cell_type": "markdown",
      "metadata": {
        "id": "I0kVFfwqfXbh"
      },
      "source": [
        "Doing data exploration"
      ]
    },
    {
      "cell_type": "code",
      "metadata": {
        "colab": {
          "base_uri": "https://localhost:8080/",
          "height": 549
        },
        "id": "F745PikTdTTB",
        "outputId": "b6abfa46-3c21-429b-bf02-3d98aa8f654b"
      },
      "source": [
        "df.sample(10)"
      ],
      "execution_count": 3,
      "outputs": [
        {
          "output_type": "execute_result",
          "data": {
            "text/html": [
              "<div>\n",
              "<style scoped>\n",
              "    .dataframe tbody tr th:only-of-type {\n",
              "        vertical-align: middle;\n",
              "    }\n",
              "\n",
              "    .dataframe tbody tr th {\n",
              "        vertical-align: top;\n",
              "    }\n",
              "\n",
              "    .dataframe thead th {\n",
              "        text-align: right;\n",
              "    }\n",
              "</style>\n",
              "<table border=\"1\" class=\"dataframe\">\n",
              "  <thead>\n",
              "    <tr style=\"text-align: right;\">\n",
              "      <th></th>\n",
              "      <th>names</th>\n",
              "      <th>satisfaction_level</th>\n",
              "      <th>last_evaluation</th>\n",
              "      <th>number_project</th>\n",
              "      <th>average_monthly_hours</th>\n",
              "      <th>exp_in_company</th>\n",
              "      <th>work_accident</th>\n",
              "      <th>left_company</th>\n",
              "      <th>promotion_last_5years</th>\n",
              "      <th>role</th>\n",
              "      <th>salary</th>\n",
              "    </tr>\n",
              "  </thead>\n",
              "  <tbody>\n",
              "    <tr>\n",
              "      <th>1339</th>\n",
              "      <td>Michael Quan</td>\n",
              "      <td>0.89</td>\n",
              "      <td>0.96</td>\n",
              "      <td>5</td>\n",
              "      <td>221</td>\n",
              "      <td>5</td>\n",
              "      <td>0</td>\n",
              "      <td>1</td>\n",
              "      <td>0</td>\n",
              "      <td>technical</td>\n",
              "      <td>low</td>\n",
              "    </tr>\n",
              "    <tr>\n",
              "      <th>10738</th>\n",
              "      <td>Anna Farruggio</td>\n",
              "      <td>0.68</td>\n",
              "      <td>0.84</td>\n",
              "      <td>3</td>\n",
              "      <td>270</td>\n",
              "      <td>3</td>\n",
              "      <td>0</td>\n",
              "      <td>0</td>\n",
              "      <td>0</td>\n",
              "      <td>support</td>\n",
              "      <td>high</td>\n",
              "    </tr>\n",
              "    <tr>\n",
              "      <th>4838</th>\n",
              "      <td>Joseph Eastman</td>\n",
              "      <td>0.46</td>\n",
              "      <td>0.38</td>\n",
              "      <td>6</td>\n",
              "      <td>165</td>\n",
              "      <td>3</td>\n",
              "      <td>0</td>\n",
              "      <td>0</td>\n",
              "      <td>0</td>\n",
              "      <td>accounting</td>\n",
              "      <td>low</td>\n",
              "    </tr>\n",
              "    <tr>\n",
              "      <th>4107</th>\n",
              "      <td>James Mast</td>\n",
              "      <td>0.55</td>\n",
              "      <td>0.80</td>\n",
              "      <td>3</td>\n",
              "      <td>254</td>\n",
              "      <td>2</td>\n",
              "      <td>0</td>\n",
              "      <td>0</td>\n",
              "      <td>0</td>\n",
              "      <td>IT</td>\n",
              "      <td>medium</td>\n",
              "    </tr>\n",
              "    <tr>\n",
              "      <th>4540</th>\n",
              "      <td>Michael Stevenson</td>\n",
              "      <td>0.54</td>\n",
              "      <td>0.85</td>\n",
              "      <td>4</td>\n",
              "      <td>157</td>\n",
              "      <td>3</td>\n",
              "      <td>0</td>\n",
              "      <td>0</td>\n",
              "      <td>1</td>\n",
              "      <td>technical</td>\n",
              "      <td>medium</td>\n",
              "    </tr>\n",
              "    <tr>\n",
              "      <th>8649</th>\n",
              "      <td>Elizabeth Walker</td>\n",
              "      <td>0.58</td>\n",
              "      <td>0.88</td>\n",
              "      <td>5</td>\n",
              "      <td>178</td>\n",
              "      <td>4</td>\n",
              "      <td>0</td>\n",
              "      <td>0</td>\n",
              "      <td>0</td>\n",
              "      <td>sales</td>\n",
              "      <td>medium</td>\n",
              "    </tr>\n",
              "    <tr>\n",
              "      <th>14276</th>\n",
              "      <td>Donnell Maybury</td>\n",
              "      <td>0.81</td>\n",
              "      <td>0.70</td>\n",
              "      <td>6</td>\n",
              "      <td>161</td>\n",
              "      <td>4</td>\n",
              "      <td>0</td>\n",
              "      <td>1</td>\n",
              "      <td>0</td>\n",
              "      <td>IT</td>\n",
              "      <td>medium</td>\n",
              "    </tr>\n",
              "    <tr>\n",
              "      <th>4652</th>\n",
              "      <td>Manuel Warner</td>\n",
              "      <td>0.45</td>\n",
              "      <td>0.58</td>\n",
              "      <td>3</td>\n",
              "      <td>200</td>\n",
              "      <td>2</td>\n",
              "      <td>0</td>\n",
              "      <td>0</td>\n",
              "      <td>0</td>\n",
              "      <td>RandD</td>\n",
              "      <td>medium</td>\n",
              "    </tr>\n",
              "    <tr>\n",
              "      <th>13029</th>\n",
              "      <td>Greg Palmer</td>\n",
              "      <td>0.63</td>\n",
              "      <td>0.49</td>\n",
              "      <td>4</td>\n",
              "      <td>151</td>\n",
              "      <td>3</td>\n",
              "      <td>0</td>\n",
              "      <td>0</td>\n",
              "      <td>0</td>\n",
              "      <td>technical</td>\n",
              "      <td>medium</td>\n",
              "    </tr>\n",
              "    <tr>\n",
              "      <th>529</th>\n",
              "      <td>Wilson Linkous</td>\n",
              "      <td>0.39</td>\n",
              "      <td>0.57</td>\n",
              "      <td>2</td>\n",
              "      <td>145</td>\n",
              "      <td>3</td>\n",
              "      <td>0</td>\n",
              "      <td>1</td>\n",
              "      <td>0</td>\n",
              "      <td>accounting</td>\n",
              "      <td>medium</td>\n",
              "    </tr>\n",
              "  </tbody>\n",
              "</table>\n",
              "</div>"
            ],
            "text/plain": [
              "                   names  satisfaction_level  ...        role  salary\n",
              "1339        Michael Quan                0.89  ...   technical     low\n",
              "10738     Anna Farruggio                0.68  ...     support    high\n",
              "4838      Joseph Eastman                0.46  ...  accounting     low\n",
              "4107          James Mast                0.55  ...          IT  medium\n",
              "4540   Michael Stevenson                0.54  ...   technical  medium\n",
              "8649    Elizabeth Walker                0.58  ...       sales  medium\n",
              "14276    Donnell Maybury                0.81  ...          IT  medium\n",
              "4652       Manuel Warner                0.45  ...       RandD  medium\n",
              "13029        Greg Palmer                0.63  ...   technical  medium\n",
              "529       Wilson Linkous                0.39  ...  accounting  medium\n",
              "\n",
              "[10 rows x 11 columns]"
            ]
          },
          "metadata": {
            "tags": []
          },
          "execution_count": 3
        }
      ]
    },
    {
      "cell_type": "code",
      "metadata": {
        "colab": {
          "base_uri": "https://localhost:8080/",
          "height": 297
        },
        "id": "UcCX-iAddTpv",
        "outputId": "e72d230e-c42c-4613-8873-29a24218afe0"
      },
      "source": [
        "df.describe()"
      ],
      "execution_count": 4,
      "outputs": [
        {
          "output_type": "execute_result",
          "data": {
            "text/html": [
              "<div>\n",
              "<style scoped>\n",
              "    .dataframe tbody tr th:only-of-type {\n",
              "        vertical-align: middle;\n",
              "    }\n",
              "\n",
              "    .dataframe tbody tr th {\n",
              "        vertical-align: top;\n",
              "    }\n",
              "\n",
              "    .dataframe thead th {\n",
              "        text-align: right;\n",
              "    }\n",
              "</style>\n",
              "<table border=\"1\" class=\"dataframe\">\n",
              "  <thead>\n",
              "    <tr style=\"text-align: right;\">\n",
              "      <th></th>\n",
              "      <th>satisfaction_level</th>\n",
              "      <th>last_evaluation</th>\n",
              "      <th>number_project</th>\n",
              "      <th>average_monthly_hours</th>\n",
              "      <th>exp_in_company</th>\n",
              "      <th>work_accident</th>\n",
              "      <th>left_company</th>\n",
              "      <th>promotion_last_5years</th>\n",
              "    </tr>\n",
              "  </thead>\n",
              "  <tbody>\n",
              "    <tr>\n",
              "      <th>count</th>\n",
              "      <td>15000.000000</td>\n",
              "      <td>15000.000000</td>\n",
              "      <td>15000.000000</td>\n",
              "      <td>15000.000000</td>\n",
              "      <td>15000.000000</td>\n",
              "      <td>15000.000000</td>\n",
              "      <td>15000.000000</td>\n",
              "      <td>15000.000000</td>\n",
              "    </tr>\n",
              "    <tr>\n",
              "      <th>mean</th>\n",
              "      <td>0.612847</td>\n",
              "      <td>0.716115</td>\n",
              "      <td>3.803133</td>\n",
              "      <td>201.052400</td>\n",
              "      <td>3.498333</td>\n",
              "      <td>0.144600</td>\n",
              "      <td>0.238133</td>\n",
              "      <td>0.021267</td>\n",
              "    </tr>\n",
              "    <tr>\n",
              "      <th>std</th>\n",
              "      <td>0.248628</td>\n",
              "      <td>0.171171</td>\n",
              "      <td>1.232590</td>\n",
              "      <td>49.942074</td>\n",
              "      <td>1.460139</td>\n",
              "      <td>0.351709</td>\n",
              "      <td>0.425955</td>\n",
              "      <td>0.144277</td>\n",
              "    </tr>\n",
              "    <tr>\n",
              "      <th>min</th>\n",
              "      <td>0.090000</td>\n",
              "      <td>0.360000</td>\n",
              "      <td>2.000000</td>\n",
              "      <td>96.000000</td>\n",
              "      <td>2.000000</td>\n",
              "      <td>0.000000</td>\n",
              "      <td>0.000000</td>\n",
              "      <td>0.000000</td>\n",
              "    </tr>\n",
              "    <tr>\n",
              "      <th>25%</th>\n",
              "      <td>0.440000</td>\n",
              "      <td>0.560000</td>\n",
              "      <td>3.000000</td>\n",
              "      <td>156.000000</td>\n",
              "      <td>3.000000</td>\n",
              "      <td>0.000000</td>\n",
              "      <td>0.000000</td>\n",
              "      <td>0.000000</td>\n",
              "    </tr>\n",
              "    <tr>\n",
              "      <th>50%</th>\n",
              "      <td>0.640000</td>\n",
              "      <td>0.720000</td>\n",
              "      <td>4.000000</td>\n",
              "      <td>200.000000</td>\n",
              "      <td>3.000000</td>\n",
              "      <td>0.000000</td>\n",
              "      <td>0.000000</td>\n",
              "      <td>0.000000</td>\n",
              "    </tr>\n",
              "    <tr>\n",
              "      <th>75%</th>\n",
              "      <td>0.820000</td>\n",
              "      <td>0.870000</td>\n",
              "      <td>5.000000</td>\n",
              "      <td>245.000000</td>\n",
              "      <td>4.000000</td>\n",
              "      <td>0.000000</td>\n",
              "      <td>0.000000</td>\n",
              "      <td>0.000000</td>\n",
              "    </tr>\n",
              "    <tr>\n",
              "      <th>max</th>\n",
              "      <td>1.000000</td>\n",
              "      <td>1.000000</td>\n",
              "      <td>7.000000</td>\n",
              "      <td>310.000000</td>\n",
              "      <td>10.000000</td>\n",
              "      <td>1.000000</td>\n",
              "      <td>1.000000</td>\n",
              "      <td>1.000000</td>\n",
              "    </tr>\n",
              "  </tbody>\n",
              "</table>\n",
              "</div>"
            ],
            "text/plain": [
              "       satisfaction_level  last_evaluation  ...  left_company  promotion_last_5years\n",
              "count        15000.000000     15000.000000  ...  15000.000000           15000.000000\n",
              "mean             0.612847         0.716115  ...      0.238133               0.021267\n",
              "std              0.248628         0.171171  ...      0.425955               0.144277\n",
              "min              0.090000         0.360000  ...      0.000000               0.000000\n",
              "25%              0.440000         0.560000  ...      0.000000               0.000000\n",
              "50%              0.640000         0.720000  ...      0.000000               0.000000\n",
              "75%              0.820000         0.870000  ...      0.000000               0.000000\n",
              "max              1.000000         1.000000  ...      1.000000               1.000000\n",
              "\n",
              "[8 rows x 8 columns]"
            ]
          },
          "metadata": {
            "tags": []
          },
          "execution_count": 4
        }
      ]
    },
    {
      "cell_type": "code",
      "metadata": {
        "colab": {
          "base_uri": "https://localhost:8080/",
          "height": 286
        },
        "id": "vrMJUDbAf-WY",
        "outputId": "b9145d02-b49b-4c49-bd9b-b67453e154ba"
      },
      "source": [
        "ax = sns.countplot(df['role'])"
      ],
      "execution_count": 5,
      "outputs": [
        {
          "output_type": "display_data",
          "data": {
            "image/png": "[encoded data removed]",
            "text/plain": [
              "<Figure size 432x288 with 1 Axes>"
            ]
          },
          "metadata": {
            "tags": [],
            "needs_background": "light"
          }
        }
      ]
    },
    {
      "cell_type": "code",
      "metadata": {
        "colab": {
          "base_uri": "https://localhost:8080/",
          "height": 286
        },
        "id": "2VGh95RQf-0z",
        "outputId": "02f54571-829c-4ff4-ad54-d00170782376"
      },
      "source": [
        "ax = sns.countplot(x=\"role\", hue= \"left_company\", data=df)"
      ],
      "execution_count": 6,
      "outputs": [
        {
          "output_type": "display_data",
          "data": {
            "image/png": "[encoded data removed]",
            "text/plain": [
              "<Figure size 432x288 with 1 Axes>"
            ]
          },
          "metadata": {
            "tags": [],
            "needs_background": "light"
          }
        }
      ]
    },
    {
      "cell_type": "code",
      "metadata": {
        "colab": {
          "base_uri": "https://localhost:8080/",
          "height": 629
        },
        "id": "RnIu-lalf_Ea",
        "outputId": "8117f369-8125-431c-e785-9dc787a5de80"
      },
      "source": [
        "corr = df.corr()\n",
        "sns.set(rc={'figure.figsize':(10,8)})\n",
        "sns.heatmap(corr, annot=True)"
      ],
      "execution_count": 7,
      "outputs": [
        {
          "output_type": "execute_result",
          "data": {
            "text/plain": [
              "<matplotlib.axes._subplots.AxesSubplot at 0x7fde97f28810>"
            ]
          },
          "metadata": {
            "tags": []
          },
          "execution_count": 7
        },
        {
          "output_type": "display_data",
          "data": {
            "image/png": "[encoded data removed]",
            "text/plain": [
              "<Figure size 720x576 with 2 Axes>"
            ]
          },
          "metadata": {
            "tags": []
          }
        }
      ]
    },
    {
      "cell_type": "markdown",
      "metadata": {
        "id": "HNm7GRfapbNo"
      },
      "source": [
        "**Observation**\n",
        "\n",
        "\n",
        "1.  Maximum number of years in the company is 10 years and 75% of the employees are working 4 years or below in this company.\n",
        "2.   Sales department has highest number of employees and highest turn over\n",
        "3.   Attrition  rate of this company is 23%\n",
        "\n",
        "* the dataset does not require data cleaning\n"
      ]
    },
    {
      "cell_type": "markdown",
      "metadata": {
        "id": "VHvA-4QnsrYI"
      },
      "source": [
        "For this prediction I am going to use KNN model."
      ]
    },
    {
      "cell_type": "code",
      "metadata": {
        "id": "4MpYEd-NmEJ_"
      },
      "source": [
        "inputs = ['satisfaction_level','number_project', 'average_monthly_hours']\n",
        "X = df[inputs]\n",
        "y = df['left_company']"
      ],
      "execution_count": 10,
      "outputs": []
    },
    {
      "cell_type": "markdown",
      "metadata": {
        "id": "JJ8M5dzkto7B"
      },
      "source": [
        "Splitting data for training(70%) and testing(30%)"
      ]
    },
    {
      "cell_type": "code",
      "metadata": {
        "id": "TJvPBnxImECY"
      },
      "source": [
        "from sklearn.model_selection import train_test_split\n",
        "X_train, X_test, y_train, y_test = train_test_split(X, y, test_size=0.3, random_state=1)"
      ],
      "execution_count": 11,
      "outputs": []
    },
    {
      "cell_type": "markdown",
      "metadata": {
        "id": "pI9ZDzvxzctC"
      },
      "source": [
        "Train KNeighborsRegressor and show prediction accuracy"
      ]
    },
    {
      "cell_type": "code",
      "metadata": {
        "colab": {
          "base_uri": "https://localhost:8080/"
        },
        "id": "4zk9QjbVmD6z",
        "outputId": "b23aa732-0f2d-4e07-da0c-ea12291ddd27"
      },
      "source": [
        "from sklearn.neighbors import KNeighborsRegressor\n",
        "\n",
        "\n",
        "knn_regressor1 = KNeighborsRegressor(n_neighbors=3)\n",
        "knn_regressor1.fit(X_train, y_train)\n",
        "\n",
        "knn_regressor2 = KNeighborsRegressor(n_neighbors=2)\n",
        "knn_regressor2.fit(X_train, y_train)\n",
        "\n",
        "knn_regressor3 = KNeighborsRegressor(n_neighbors=4)\n",
        "knn_regressor3.fit(X_train, y_train)\n",
        "\n",
        "print('KNeighborsRegressor1 :', knn_regressor1.score(X_test, y_test))\n",
        "print('KNeighborsRegressor2 :', knn_regressor2.score(X_test, y_test))\n",
        "print('KNeighborsRegressor3 :', knn_regressor3.score(X_test, y_test))"
      ],
      "execution_count": 13,
      "outputs": [
        {
          "output_type": "stream",
          "text": [
            "KNeighborsRegressor1 : 0.6386993718865064\n",
            "KNeighborsRegressor2 : 0.6597831384015594\n",
            "KNeighborsRegressor3 : 0.6272691276803118\n"
          ],
          "name": "stdout"
        }
      ]
    },
    {
      "cell_type": "markdown",
      "metadata": {
        "id": "OyNsZbXWokzq"
      },
      "source": [
        "Train KNeighborsClassifier and show prediction accuracy"
      ]
    },
    {
      "cell_type": "code",
      "metadata": {
        "colab": {
          "base_uri": "https://localhost:8080/"
        },
        "id": "hLWbhYYxm0NJ",
        "outputId": "6523bb3f-149b-4f49-b243-587c72b100ee"
      },
      "source": [
        "from sklearn.neighbors import KNeighborsClassifier\n",
        "from sklearn import metrics\n",
        "\n",
        "knn_classifier1 = KNeighborsClassifier(n_neighbors=3)\n",
        "knn_classifier1.fit(X_train, y_train)\n",
        "y_pred_class1 = knn_classifier1.predict(X_test)\n",
        "\n",
        "knn_classifier2 = KNeighborsClassifier(n_neighbors=3)\n",
        "knn_classifier2.fit(X_train, y_train)\n",
        "y_pred_class2 = knn_classifier2.predict(X_test)\n",
        "\n",
        "knn_classifier3 = KNeighborsClassifier(n_neighbors=3)\n",
        "knn_classifier3.fit(X_train, y_train)\n",
        "y_pred_class3 = knn_classifier3.predict(X_test)\n",
        "\n",
        "print('KNeighborsClassifier1 : ',metrics.accuracy_score(y_test, y_pred_class1))\n",
        "print('KNeighborsClassifier2 : ',metrics.accuracy_score(y_test, y_pred_class2))\n",
        "print('KNeighborsClassifier3 : ',metrics.accuracy_score(y_test, y_pred_class3))"
      ],
      "execution_count": 14,
      "outputs": [
        {
          "output_type": "stream",
          "text": [
            "KNeighborsClassifier1 :  0.9084444444444445\n",
            "KNeighborsClassifier2 :  0.9084444444444445\n",
            "KNeighborsClassifier3 :  0.9084444444444445\n"
          ],
          "name": "stdout"
        }
      ]
    },
    {
      "cell_type": "markdown",
      "metadata": {
        "id": "kr4ob4d7zgt9"
      },
      "source": [
        "It shows that classification model has higher accuracy compare to regression model in this prediction.\n",
        "I am going to use 2 for n_neighbors.\n",
        "hr_predict.csv is record of current employee in the company. using trained model to predict if the employee will stay or leave."
      ]
    },
    {
      "cell_type": "code",
      "metadata": {
        "id": "TDwmpcLnn3Wc"
      },
      "source": [
        "predict = pd.read_csv(\"hr_predict.csv\")\n",
        "X_predict = predict[inputs]\n",
        "predictions1 = knn_regressor2.predict(X_predict)\n",
        "predictions2 = knn_classifier2.predict(X_predict)"
      ],
      "execution_count": 15,
      "outputs": []
    },
    {
      "cell_type": "code",
      "metadata": {
        "colab": {
          "base_uri": "https://localhost:8080/",
          "height": 609
        },
        "id": "-3PKRzhAm0En",
        "outputId": "886a5b55-b73c-4dca-9848-d7b5f0a819b4"
      },
      "source": [
        "# Storing prediction result to dataframe\n",
        "\n",
        "percent_left= (predictions1 * 100)\n",
        "predict['left_predict_percent'] = percent_left.round(2)\n",
        "predict['left_predict2'] = predictions2\n",
        "predict"
      ],
      "execution_count": 16,
      "outputs": [
        {
          "output_type": "execute_result",
          "data": {
            "text/html": [
              "<div>\n",
              "<style scoped>\n",
              "    .dataframe tbody tr th:only-of-type {\n",
              "        vertical-align: middle;\n",
              "    }\n",
              "\n",
              "    .dataframe tbody tr th {\n",
              "        vertical-align: top;\n",
              "    }\n",
              "\n",
              "    .dataframe thead th {\n",
              "        text-align: right;\n",
              "    }\n",
              "</style>\n",
              "<table border=\"1\" class=\"dataframe\">\n",
              "  <thead>\n",
              "    <tr style=\"text-align: right;\">\n",
              "      <th></th>\n",
              "      <th>id</th>\n",
              "      <th>names</th>\n",
              "      <th>satisfaction_level</th>\n",
              "      <th>last_evaluation</th>\n",
              "      <th>number_project</th>\n",
              "      <th>average_monthly_hours</th>\n",
              "      <th>exp_in_company</th>\n",
              "      <th>work_accident</th>\n",
              "      <th>promotion_last_5years</th>\n",
              "      <th>role</th>\n",
              "      <th>salary</th>\n",
              "      <th>salary_class</th>\n",
              "      <th>role_class</th>\n",
              "      <th>left_predict_percent</th>\n",
              "      <th>left_predict2</th>\n",
              "    </tr>\n",
              "  </thead>\n",
              "  <tbody>\n",
              "    <tr>\n",
              "      <th>0</th>\n",
              "      <td>2237</td>\n",
              "      <td>Paul Mathey</td>\n",
              "      <td>0.74</td>\n",
              "      <td>0.72</td>\n",
              "      <td>4</td>\n",
              "      <td>176</td>\n",
              "      <td>3</td>\n",
              "      <td>0</td>\n",
              "      <td>0</td>\n",
              "      <td>sales</td>\n",
              "      <td>low</td>\n",
              "      <td>1</td>\n",
              "      <td>1</td>\n",
              "      <td>0.0</td>\n",
              "      <td>0</td>\n",
              "    </tr>\n",
              "    <tr>\n",
              "      <th>1</th>\n",
              "      <td>8127</td>\n",
              "      <td>Shawn Torres</td>\n",
              "      <td>0.72</td>\n",
              "      <td>0.88</td>\n",
              "      <td>3</td>\n",
              "      <td>224</td>\n",
              "      <td>3</td>\n",
              "      <td>0</td>\n",
              "      <td>0</td>\n",
              "      <td>technical</td>\n",
              "      <td>low</td>\n",
              "      <td>1</td>\n",
              "      <td>2</td>\n",
              "      <td>0.0</td>\n",
              "      <td>0</td>\n",
              "    </tr>\n",
              "    <tr>\n",
              "      <th>2</th>\n",
              "      <td>8146</td>\n",
              "      <td>Emily Staples</td>\n",
              "      <td>0.52</td>\n",
              "      <td>0.67</td>\n",
              "      <td>4</td>\n",
              "      <td>216</td>\n",
              "      <td>3</td>\n",
              "      <td>0</td>\n",
              "      <td>0</td>\n",
              "      <td>support</td>\n",
              "      <td>medium</td>\n",
              "      <td>2</td>\n",
              "      <td>3</td>\n",
              "      <td>0.0</td>\n",
              "      <td>0</td>\n",
              "    </tr>\n",
              "    <tr>\n",
              "      <th>3</th>\n",
              "      <td>14441</td>\n",
              "      <td>Jean Salazar</td>\n",
              "      <td>0.42</td>\n",
              "      <td>0.47</td>\n",
              "      <td>2</td>\n",
              "      <td>159</td>\n",
              "      <td>3</td>\n",
              "      <td>0</td>\n",
              "      <td>0</td>\n",
              "      <td>marketing</td>\n",
              "      <td>low</td>\n",
              "      <td>1</td>\n",
              "      <td>6</td>\n",
              "      <td>100.0</td>\n",
              "      <td>1</td>\n",
              "    </tr>\n",
              "    <tr>\n",
              "      <th>4</th>\n",
              "      <td>11909</td>\n",
              "      <td>Javier Folse</td>\n",
              "      <td>0.85</td>\n",
              "      <td>0.58</td>\n",
              "      <td>4</td>\n",
              "      <td>186</td>\n",
              "      <td>7</td>\n",
              "      <td>0</td>\n",
              "      <td>0</td>\n",
              "      <td>sales</td>\n",
              "      <td>medium</td>\n",
              "      <td>2</td>\n",
              "      <td>1</td>\n",
              "      <td>0.0</td>\n",
              "      <td>0</td>\n",
              "    </tr>\n",
              "    <tr>\n",
              "      <th>...</th>\n",
              "      <td>...</td>\n",
              "      <td>...</td>\n",
              "      <td>...</td>\n",
              "      <td>...</td>\n",
              "      <td>...</td>\n",
              "      <td>...</td>\n",
              "      <td>...</td>\n",
              "      <td>...</td>\n",
              "      <td>...</td>\n",
              "      <td>...</td>\n",
              "      <td>...</td>\n",
              "      <td>...</td>\n",
              "      <td>...</td>\n",
              "      <td>...</td>\n",
              "      <td>...</td>\n",
              "    </tr>\n",
              "    <tr>\n",
              "      <th>95</th>\n",
              "      <td>12162</td>\n",
              "      <td>Robert Davis</td>\n",
              "      <td>0.45</td>\n",
              "      <td>0.51</td>\n",
              "      <td>2</td>\n",
              "      <td>147</td>\n",
              "      <td>3</td>\n",
              "      <td>0</td>\n",
              "      <td>0</td>\n",
              "      <td>sales</td>\n",
              "      <td>low</td>\n",
              "      <td>1</td>\n",
              "      <td>1</td>\n",
              "      <td>100.0</td>\n",
              "      <td>1</td>\n",
              "    </tr>\n",
              "    <tr>\n",
              "      <th>96</th>\n",
              "      <td>14646</td>\n",
              "      <td>Kevin Reid</td>\n",
              "      <td>0.41</td>\n",
              "      <td>0.47</td>\n",
              "      <td>2</td>\n",
              "      <td>135</td>\n",
              "      <td>3</td>\n",
              "      <td>0</td>\n",
              "      <td>0</td>\n",
              "      <td>support</td>\n",
              "      <td>low</td>\n",
              "      <td>1</td>\n",
              "      <td>3</td>\n",
              "      <td>100.0</td>\n",
              "      <td>1</td>\n",
              "    </tr>\n",
              "    <tr>\n",
              "      <th>97</th>\n",
              "      <td>10385</td>\n",
              "      <td>Mary Valdez</td>\n",
              "      <td>0.99</td>\n",
              "      <td>0.50</td>\n",
              "      <td>4</td>\n",
              "      <td>173</td>\n",
              "      <td>3</td>\n",
              "      <td>0</td>\n",
              "      <td>0</td>\n",
              "      <td>management</td>\n",
              "      <td>low</td>\n",
              "      <td>1</td>\n",
              "      <td>11</td>\n",
              "      <td>0.0</td>\n",
              "      <td>0</td>\n",
              "    </tr>\n",
              "    <tr>\n",
              "      <th>98</th>\n",
              "      <td>9524</td>\n",
              "      <td>William Jaeger</td>\n",
              "      <td>0.74</td>\n",
              "      <td>0.55</td>\n",
              "      <td>5</td>\n",
              "      <td>168</td>\n",
              "      <td>4</td>\n",
              "      <td>0</td>\n",
              "      <td>0</td>\n",
              "      <td>management</td>\n",
              "      <td>low</td>\n",
              "      <td>1</td>\n",
              "      <td>11</td>\n",
              "      <td>0.0</td>\n",
              "      <td>0</td>\n",
              "    </tr>\n",
              "    <tr>\n",
              "      <th>99</th>\n",
              "      <td>13936</td>\n",
              "      <td>John Booker</td>\n",
              "      <td>0.16</td>\n",
              "      <td>0.63</td>\n",
              "      <td>6</td>\n",
              "      <td>286</td>\n",
              "      <td>7</td>\n",
              "      <td>0</td>\n",
              "      <td>1</td>\n",
              "      <td>sales</td>\n",
              "      <td>medium</td>\n",
              "      <td>2</td>\n",
              "      <td>1</td>\n",
              "      <td>0.0</td>\n",
              "      <td>0</td>\n",
              "    </tr>\n",
              "  </tbody>\n",
              "</table>\n",
              "<p>100 rows × 15 columns</p>\n",
              "</div>"
            ],
            "text/plain": [
              "       id           names  ...  left_predict_percent  left_predict2\n",
              "0    2237     Paul Mathey  ...                   0.0              0\n",
              "1    8127    Shawn Torres  ...                   0.0              0\n",
              "2    8146   Emily Staples  ...                   0.0              0\n",
              "3   14441    Jean Salazar  ...                 100.0              1\n",
              "4   11909    Javier Folse  ...                   0.0              0\n",
              "..    ...             ...  ...                   ...            ...\n",
              "95  12162    Robert Davis  ...                 100.0              1\n",
              "96  14646      Kevin Reid  ...                 100.0              1\n",
              "97  10385     Mary Valdez  ...                   0.0              0\n",
              "98   9524  William Jaeger  ...                   0.0              0\n",
              "99  13936     John Booker  ...                   0.0              0\n",
              "\n",
              "[100 rows x 15 columns]"
            ]
          },
          "metadata": {
            "tags": []
          },
          "execution_count": 16
        }
      ]
    },
    {
      "cell_type": "markdown",
      "metadata": {
        "id": "PxV7J7Ox2QjY"
      },
      "source": [
        "Two columns were added left_predict_percent is percentage if employee will leave company using regression model and left_predict2 is prediction if employee is going to leave using clasification model (1 = will leave, 0=will stay)."
      ]
    },
    {
      "cell_type": "code",
      "metadata": {
        "colab": {
          "base_uri": "https://localhost:8080/",
          "height": 502
        },
        "id": "BSarLczI5AjK",
        "outputId": "ee8c3074-d83e-4bd6-db0a-f2ef5d1beb56"
      },
      "source": [
        "sns.countplot(x=\"number_project\", hue=\"left_predict2\", data=predict );"
      ],
      "execution_count": 17,
      "outputs": [
        {
          "output_type": "display_data",
          "data": {
            "image/png": "[encoded data removed]",
            "text/plain": [
              "<Figure size 720x576 with 1 Axes>"
            ]
          },
          "metadata": {
            "tags": []
          }
        }
      ]
    },
    {
      "cell_type": "markdown",
      "metadata": {
        "id": "XKpkV3ft35hb"
      },
      "source": [
        "**Final Observation and Suggestion**\n",
        "\n",
        "The reason that I include regression model result is to show percentage that an employee is going to leave where classification model is just showing leave or stay result.\n",
        "\n",
        "1. Based on the prediction most of people with 2 projects per year are going to leave, this may show that they may wants more challenges.\n",
        "2. Three or four projects per year has the less attrition rate\n",
        "3. Managers with the staff left_predict_percent = 33.33% (or greater) can have 1:1 conversation with their staff to review their workload and to understand what excites them(if they want to retain their staff)\n",
        "\n",
        "\n",
        "\n",
        "\n",
        "\n"
      ]
    },
    {
      "cell_type": "code",
      "metadata": {
        "id": "RohLEiGM3RQI"
      },
      "source": [
        "# Saving results to csv file\n",
        "predict.to_csv(\"final_predictions.csv\")"
      ],
      "execution_count": 18,
      "outputs": []
    },
    {
      "cell_type": "code",
      "metadata": {
        "id": "BvS-yfHK9HLG"
      },
      "source": [
        ""
      ],
      "execution_count": null,
      "outputs": []
    }
  ]
}